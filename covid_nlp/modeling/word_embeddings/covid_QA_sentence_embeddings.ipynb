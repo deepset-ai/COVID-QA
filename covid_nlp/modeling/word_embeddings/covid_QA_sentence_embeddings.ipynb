{
 "cells": [
  {
   "cell_type": "code",
   "execution_count": null,
   "metadata": {
    "colab": {},
    "colab_type": "code",
    "id": "NgqWy1qDvfKk"
   },
   "outputs": [],
   "source": [
    "!pip install flair\n",
    "!pip install pandas\n",
    "!pip install allennlp"
   ]
  },
  {
   "cell_type": "code",
   "execution_count": 4,
   "metadata": {
    "colab": {},
    "colab_type": "code",
    "id": "ObBez8QFv74m"
   },
   "outputs": [],
   "source": [
    "import pandas as pd\n",
    "import numpy as np\n",
    "from sklearn.metrics.pairwise import cosine_similarity\n",
    "from flair.embeddings import WordEmbeddings, FlairEmbeddings, DocumentPoolEmbeddings, Sentence, ELMoEmbeddings\n",
    "\n",
    "\n",
    "pd.set_option('display.width', 1000)"
   ]
  },
  {
   "cell_type": "code",
   "execution_count": 7,
   "metadata": {
    "colab": {
     "base_uri": "https://localhost:8080/",
     "height": 359
    },
    "colab_type": "code",
    "id": "QQF_JVHgxZtq",
    "outputId": "02c5a09f-5ea1-4e2f-c3f6-2c18656193d9"
   },
   "outputs": [
    {
     "data": {
      "text/html": [
       "<div>\n",
       "<style scoped>\n",
       "    .dataframe tbody tr th:only-of-type {\n",
       "        vertical-align: middle;\n",
       "    }\n",
       "\n",
       "    .dataframe tbody tr th {\n",
       "        vertical-align: top;\n",
       "    }\n",
       "\n",
       "    .dataframe thead th {\n",
       "        text-align: right;\n",
       "    }\n",
       "</style>\n",
       "<table border=\"1\" class=\"dataframe\">\n",
       "  <thead>\n",
       "    <tr style=\"text-align: right;\">\n",
       "      <th></th>\n",
       "      <th>question_1</th>\n",
       "      <th>question_2</th>\n",
       "      <th>similar</th>\n",
       "    </tr>\n",
       "  </thead>\n",
       "  <tbody>\n",
       "    <tr>\n",
       "      <th>0</th>\n",
       "      <td>What is a novel coronavirus?</td>\n",
       "      <td>What is a new coronavirus?</td>\n",
       "      <td>1</td>\n",
       "    </tr>\n",
       "    <tr>\n",
       "      <th>1</th>\n",
       "      <td>Why is the disease being called coronavirus di...</td>\n",
       "      <td>Why is the name of the disease coronavirus dis...</td>\n",
       "      <td>1</td>\n",
       "    </tr>\n",
       "    <tr>\n",
       "      <th>2</th>\n",
       "      <td>Why might someone blame or avoid individuals a...</td>\n",
       "      <td>What would be the reason to blame or avoid ind...</td>\n",
       "      <td>1</td>\n",
       "    </tr>\n",
       "    <tr>\n",
       "      <th>3</th>\n",
       "      <td>How can people help stop stigma related to COV...</td>\n",
       "      <td>What can be done to stop stigma related to COV...</td>\n",
       "      <td>1</td>\n",
       "    </tr>\n",
       "    <tr>\n",
       "      <th>4</th>\n",
       "      <td>What is the source of the virus?</td>\n",
       "      <td>Where does the virus come from?</td>\n",
       "      <td>1</td>\n",
       "    </tr>\n",
       "  </tbody>\n",
       "</table>\n",
       "</div>"
      ],
      "text/plain": [
       "                                          question_1                                         question_2  similar\n",
       "0                       What is a novel coronavirus?                         What is a new coronavirus?        1\n",
       "1  Why is the disease being called coronavirus di...  Why is the name of the disease coronavirus dis...        1\n",
       "2  Why might someone blame or avoid individuals a...  What would be the reason to blame or avoid ind...        1\n",
       "3  How can people help stop stigma related to COV...  What can be done to stop stigma related to COV...        1\n",
       "4                   What is the source of the virus?                    Where does the virus come from?        1"
      ]
     },
     "execution_count": 7,
     "metadata": {},
     "output_type": "execute_result"
    }
   ],
   "source": [
    "eval_data = pd.read_csv('CovidBERT Evaluation Dataset - Combined.csv')\n",
    "eval_data.drop(columns=['Unnamed: 3', 'Unnamed: 4', 'Unnamed: 5'], inplace=True)\n",
    "eval_data.head(5)"
   ]
  },
  {
   "cell_type": "code",
   "execution_count": null,
   "metadata": {
    "colab": {},
    "colab_type": "code",
    "id": "Tmz2pOXgzGHm"
   },
   "outputs": [],
   "source": [
    "def init_embeddings(embedding, embedding_type, pooling_type):\n",
    "\n",
    "    # initialize the word embeddings\n",
    "    if embedding_type == 'classic': \n",
    "        embeddings = [WordEmbeddings(embedding)]\n",
    "    elif embedding_type == 'elmo':\n",
    "        embeddings = [ELMoEmbeddings(embedding)]\n",
    "    elif embedding_type == 'flair':\n",
    "        glove_embedding = WordEmbeddings('glove')\n",
    "        flair_embedding_forward = FlairEmbeddings('news-forward')\n",
    "        flair_embedding_backward = FlairEmbeddings('news-backward')\n",
    "        embeddings = [glove_embedding, flair_embedding_forward, flair_embedding_backward]\n",
    "\n",
    "    # initialize the document embeddings, mode = mean\n",
    "    document_embeddings = DocumentPoolEmbeddings(embeddings, fine_tune_mode='nonlinear', pooling=pooling_type)\n",
    "    return document_embeddings\n",
    "\n",
    "def compute_similarity(df, document_embeddings):\n",
    "\n",
    "    # create an example sentence\n",
    "    sentence1 = Sentence(df['question_1'])\n",
    "    sentence2 = Sentence(df['question_2'])\n",
    "\n",
    "    # embed the sentence with our document embedding\n",
    "    document_embeddings.embed(sentence1)\n",
    "    document_embeddings.embed(sentence2)\n",
    "\n",
    "    # now check out the embedded sentence.\n",
    "    sentence_embedding1 = sentence1.get_embedding().detach().numpy().tolist()\n",
    "    sentence_embedding2 = sentence2.get_embedding().detach().numpy().tolist()\n",
    "\n",
    "    score = cosine_similarity([sentence_embedding1], [sentence_embedding2])\n",
    "    return score[0][0]\n",
    "\n",
    "def word_embeddings(df, embedding, embedding_type):\n",
    "    pooling = ['mean','min', 'max']\n",
    "    for pooling_op in pooling:\n",
    "        col_name = embedding + '_' + pooling_op\n",
    "        document_embeddings = init_embeddings(embedding, embedding_type, pooling_op)\n",
    "        df[col_name] = df.apply(lambda x: compute_similarity(x, document_embeddings), axis=1)\n",
    "        print('Done with ' + pooling_op)\n",
    "    return df"
   ]
  },
  {
   "cell_type": "code",
   "execution_count": 8,
   "metadata": {
    "colab": {
     "base_uri": "https://localhost:8080/",
     "height": 326
    },
    "colab_type": "code",
    "id": "p91dDMLs9REy",
    "outputId": "e3c94112-d286-4d20-f0eb-1a05ee30cd5a"
   },
   "outputs": [
    {
     "name": "stderr",
     "output_type": "stream",
     "text": [
      "/usr/local/lib/python3.6/dist-packages/smart_open/smart_open_lib.py:410: UserWarning: This function is deprecated, use smart_open.open instead. See the migration notes for details: https://github.com/RaRe-Technologies/smart_open/blob/master/README.rst#migrating-to-the-new-open-function\n",
      "  'See the migration notes for details: %s' % _MIGRATION_NOTES_URL\n",
      "/usr/local/lib/python3.6/dist-packages/smart_open/smart_open_lib.py:410: UserWarning: This function is deprecated, use smart_open.open instead. See the migration notes for details: https://github.com/RaRe-Technologies/smart_open/blob/master/README.rst#migrating-to-the-new-open-function\n",
      "  'See the migration notes for details: %s' % _MIGRATION_NOTES_URL\n",
      "/usr/local/lib/python3.6/dist-packages/smart_open/smart_open_lib.py:410: UserWarning: This function is deprecated, use smart_open.open instead. See the migration notes for details: https://github.com/RaRe-Technologies/smart_open/blob/master/README.rst#migrating-to-the-new-open-function\n",
      "  'See the migration notes for details: %s' % _MIGRATION_NOTES_URL\n"
     ]
    },
    {
     "data": {
      "text/html": [
       "<div>\n",
       "<style scoped>\n",
       "    .dataframe tbody tr th:only-of-type {\n",
       "        vertical-align: middle;\n",
       "    }\n",
       "\n",
       "    .dataframe tbody tr th {\n",
       "        vertical-align: top;\n",
       "    }\n",
       "\n",
       "    .dataframe thead th {\n",
       "        text-align: right;\n",
       "    }\n",
       "</style>\n",
       "<table border=\"1\" class=\"dataframe\">\n",
       "  <thead>\n",
       "    <tr style=\"text-align: right;\">\n",
       "      <th></th>\n",
       "      <th>question_1</th>\n",
       "      <th>question_2</th>\n",
       "      <th>similar</th>\n",
       "      <th>glove_mean</th>\n",
       "      <th>glove_min</th>\n",
       "      <th>glove_max</th>\n",
       "    </tr>\n",
       "  </thead>\n",
       "  <tbody>\n",
       "    <tr>\n",
       "      <th>0</th>\n",
       "      <td>What is a novel coronavirus?</td>\n",
       "      <td>What is a new coronavirus?</td>\n",
       "      <td>1</td>\n",
       "      <td>0.969663</td>\n",
       "      <td>0.962320</td>\n",
       "      <td>0.953024</td>\n",
       "    </tr>\n",
       "    <tr>\n",
       "      <th>1</th>\n",
       "      <td>Why is the disease being called coronavirus di...</td>\n",
       "      <td>Why is the name of the disease coronavirus dis...</td>\n",
       "      <td>1</td>\n",
       "      <td>0.987822</td>\n",
       "      <td>0.973520</td>\n",
       "      <td>0.980981</td>\n",
       "    </tr>\n",
       "    <tr>\n",
       "      <th>2</th>\n",
       "      <td>Why might someone blame or avoid individuals a...</td>\n",
       "      <td>What would be the reason to blame or avoid ind...</td>\n",
       "      <td>1</td>\n",
       "      <td>0.985725</td>\n",
       "      <td>0.987596</td>\n",
       "      <td>0.979712</td>\n",
       "    </tr>\n",
       "    <tr>\n",
       "      <th>3</th>\n",
       "      <td>How can people help stop stigma related to COV...</td>\n",
       "      <td>What can be done to stop stigma related to COV...</td>\n",
       "      <td>1</td>\n",
       "      <td>0.985724</td>\n",
       "      <td>0.987656</td>\n",
       "      <td>0.986240</td>\n",
       "    </tr>\n",
       "    <tr>\n",
       "      <th>4</th>\n",
       "      <td>What is the source of the virus?</td>\n",
       "      <td>Where does the virus come from?</td>\n",
       "      <td>1</td>\n",
       "      <td>0.936900</td>\n",
       "      <td>0.901894</td>\n",
       "      <td>0.861867</td>\n",
       "    </tr>\n",
       "  </tbody>\n",
       "</table>\n",
       "</div>"
      ],
      "text/plain": [
       "                                          question_1  ... glove_max\n",
       "0                       What is a novel coronavirus?  ...  0.953024\n",
       "1  Why is the disease being called coronavirus di...  ...  0.980981\n",
       "2  Why might someone blame or avoid individuals a...  ...  0.979712\n",
       "3  How can people help stop stigma related to COV...  ...  0.986240\n",
       "4                   What is the source of the virus?  ...  0.861867\n",
       "\n",
       "[5 rows x 6 columns]"
      ]
     },
     "execution_count": 8,
     "metadata": {
      "tags": []
     },
     "output_type": "execute_result"
    }
   ],
   "source": [
    "eval_data = word_embeddings(eval_data, 'glove', 'classic')\n",
    "eval_data.head()"
   ]
  },
  {
   "cell_type": "code",
   "execution_count": 9,
   "metadata": {
    "colab": {
     "base_uri": "https://localhost:8080/",
     "height": 326
    },
    "colab_type": "code",
    "id": "4TpTCXH3_h7k",
    "outputId": "edcb1504-f37a-47a0-ad95-c794860fd169"
   },
   "outputs": [
    {
     "name": "stderr",
     "output_type": "stream",
     "text": [
      "/usr/local/lib/python3.6/dist-packages/smart_open/smart_open_lib.py:410: UserWarning: This function is deprecated, use smart_open.open instead. See the migration notes for details: https://github.com/RaRe-Technologies/smart_open/blob/master/README.rst#migrating-to-the-new-open-function\n",
      "  'See the migration notes for details: %s' % _MIGRATION_NOTES_URL\n",
      "/usr/local/lib/python3.6/dist-packages/smart_open/smart_open_lib.py:410: UserWarning: This function is deprecated, use smart_open.open instead. See the migration notes for details: https://github.com/RaRe-Technologies/smart_open/blob/master/README.rst#migrating-to-the-new-open-function\n",
      "  'See the migration notes for details: %s' % _MIGRATION_NOTES_URL\n",
      "/usr/local/lib/python3.6/dist-packages/smart_open/smart_open_lib.py:410: UserWarning: This function is deprecated, use smart_open.open instead. See the migration notes for details: https://github.com/RaRe-Technologies/smart_open/blob/master/README.rst#migrating-to-the-new-open-function\n",
      "  'See the migration notes for details: %s' % _MIGRATION_NOTES_URL\n"
     ]
    },
    {
     "data": {
      "text/html": [
       "<div>\n",
       "<style scoped>\n",
       "    .dataframe tbody tr th:only-of-type {\n",
       "        vertical-align: middle;\n",
       "    }\n",
       "\n",
       "    .dataframe tbody tr th {\n",
       "        vertical-align: top;\n",
       "    }\n",
       "\n",
       "    .dataframe thead th {\n",
       "        text-align: right;\n",
       "    }\n",
       "</style>\n",
       "<table border=\"1\" class=\"dataframe\">\n",
       "  <thead>\n",
       "    <tr style=\"text-align: right;\">\n",
       "      <th></th>\n",
       "      <th>question_1</th>\n",
       "      <th>question_2</th>\n",
       "      <th>similar</th>\n",
       "      <th>glove_mean</th>\n",
       "      <th>glove_min</th>\n",
       "      <th>glove_max</th>\n",
       "      <th>en-news_mean</th>\n",
       "      <th>en-news_min</th>\n",
       "      <th>en-news_max</th>\n",
       "    </tr>\n",
       "  </thead>\n",
       "  <tbody>\n",
       "    <tr>\n",
       "      <th>0</th>\n",
       "      <td>What is a novel coronavirus?</td>\n",
       "      <td>What is a new coronavirus?</td>\n",
       "      <td>1</td>\n",
       "      <td>0.969663</td>\n",
       "      <td>0.962320</td>\n",
       "      <td>0.953024</td>\n",
       "      <td>0.986088</td>\n",
       "      <td>0.964997</td>\n",
       "      <td>0.961819</td>\n",
       "    </tr>\n",
       "    <tr>\n",
       "      <th>1</th>\n",
       "      <td>Why is the disease being called coronavirus di...</td>\n",
       "      <td>Why is the name of the disease coronavirus dis...</td>\n",
       "      <td>1</td>\n",
       "      <td>0.987822</td>\n",
       "      <td>0.973520</td>\n",
       "      <td>0.980981</td>\n",
       "      <td>0.994423</td>\n",
       "      <td>0.993324</td>\n",
       "      <td>0.988986</td>\n",
       "    </tr>\n",
       "    <tr>\n",
       "      <th>2</th>\n",
       "      <td>Why might someone blame or avoid individuals a...</td>\n",
       "      <td>What would be the reason to blame or avoid ind...</td>\n",
       "      <td>1</td>\n",
       "      <td>0.985725</td>\n",
       "      <td>0.987596</td>\n",
       "      <td>0.979712</td>\n",
       "      <td>0.992363</td>\n",
       "      <td>0.980096</td>\n",
       "      <td>0.981828</td>\n",
       "    </tr>\n",
       "    <tr>\n",
       "      <th>3</th>\n",
       "      <td>How can people help stop stigma related to COV...</td>\n",
       "      <td>What can be done to stop stigma related to COV...</td>\n",
       "      <td>1</td>\n",
       "      <td>0.985724</td>\n",
       "      <td>0.987656</td>\n",
       "      <td>0.986240</td>\n",
       "      <td>0.988362</td>\n",
       "      <td>0.981589</td>\n",
       "      <td>0.978043</td>\n",
       "    </tr>\n",
       "    <tr>\n",
       "      <th>4</th>\n",
       "      <td>What is the source of the virus?</td>\n",
       "      <td>Where does the virus come from?</td>\n",
       "      <td>1</td>\n",
       "      <td>0.936900</td>\n",
       "      <td>0.901894</td>\n",
       "      <td>0.861867</td>\n",
       "      <td>0.961313</td>\n",
       "      <td>0.926174</td>\n",
       "      <td>0.891326</td>\n",
       "    </tr>\n",
       "  </tbody>\n",
       "</table>\n",
       "</div>"
      ],
      "text/plain": [
       "                                          question_1  ... en-news_max\n",
       "0                       What is a novel coronavirus?  ...    0.961819\n",
       "1  Why is the disease being called coronavirus di...  ...    0.988986\n",
       "2  Why might someone blame or avoid individuals a...  ...    0.981828\n",
       "3  How can people help stop stigma related to COV...  ...    0.978043\n",
       "4                   What is the source of the virus?  ...    0.891326\n",
       "\n",
       "[5 rows x 9 columns]"
      ]
     },
     "execution_count": 9,
     "metadata": {
      "tags": []
     },
     "output_type": "execute_result"
    }
   ],
   "source": [
    "eval_data = word_embeddings(eval_data, 'en-news', 'classic')\n",
    "eval_data.head()"
   ]
  },
  {
   "cell_type": "code",
   "execution_count": 19,
   "metadata": {
    "colab": {
     "base_uri": "https://localhost:8080/",
     "height": 306
    },
    "colab_type": "code",
    "id": "TeRempUGNf5r",
    "outputId": "4e08c0f8-1010-476a-8fa8-635b31caed81"
   },
   "outputs": [
    {
     "name": "stdout",
     "output_type": "stream",
     "text": [
      "Done with min\n",
      "Done with max\n"
     ]
    },
    {
     "data": {
      "text/html": [
       "<div>\n",
       "<style scoped>\n",
       "    .dataframe tbody tr th:only-of-type {\n",
       "        vertical-align: middle;\n",
       "    }\n",
       "\n",
       "    .dataframe tbody tr th {\n",
       "        vertical-align: top;\n",
       "    }\n",
       "\n",
       "    .dataframe thead th {\n",
       "        text-align: right;\n",
       "    }\n",
       "</style>\n",
       "<table border=\"1\" class=\"dataframe\">\n",
       "  <thead>\n",
       "    <tr style=\"text-align: right;\">\n",
       "      <th></th>\n",
       "      <th>question_1</th>\n",
       "      <th>question_2</th>\n",
       "      <th>similar</th>\n",
       "      <th>glove_mean</th>\n",
       "      <th>glove_min</th>\n",
       "      <th>glove_max</th>\n",
       "      <th>en-news_mean</th>\n",
       "      <th>en-news_min</th>\n",
       "      <th>en-news_max</th>\n",
       "      <th>small_mean</th>\n",
       "      <th>small_min</th>\n",
       "      <th>small_max</th>\n",
       "    </tr>\n",
       "  </thead>\n",
       "  <tbody>\n",
       "    <tr>\n",
       "      <th>0</th>\n",
       "      <td>What is a novel coronavirus?</td>\n",
       "      <td>What is a new coronavirus?</td>\n",
       "      <td>1</td>\n",
       "      <td>0.969663</td>\n",
       "      <td>0.962320</td>\n",
       "      <td>0.953024</td>\n",
       "      <td>0.986088</td>\n",
       "      <td>0.964997</td>\n",
       "      <td>0.961819</td>\n",
       "      <td>0.916189</td>\n",
       "      <td>0.965656</td>\n",
       "      <td>0.961327</td>\n",
       "    </tr>\n",
       "    <tr>\n",
       "      <th>1</th>\n",
       "      <td>Why is the disease being called coronavirus di...</td>\n",
       "      <td>Why is the name of the disease coronavirus dis...</td>\n",
       "      <td>1</td>\n",
       "      <td>0.987822</td>\n",
       "      <td>0.973520</td>\n",
       "      <td>0.980981</td>\n",
       "      <td>0.994423</td>\n",
       "      <td>0.993324</td>\n",
       "      <td>0.988986</td>\n",
       "      <td>0.939447</td>\n",
       "      <td>0.947040</td>\n",
       "      <td>0.950697</td>\n",
       "    </tr>\n",
       "    <tr>\n",
       "      <th>2</th>\n",
       "      <td>Why might someone blame or avoid individuals a...</td>\n",
       "      <td>What would be the reason to blame or avoid ind...</td>\n",
       "      <td>1</td>\n",
       "      <td>0.985725</td>\n",
       "      <td>0.987596</td>\n",
       "      <td>0.979712</td>\n",
       "      <td>0.992363</td>\n",
       "      <td>0.980096</td>\n",
       "      <td>0.981828</td>\n",
       "      <td>0.945514</td>\n",
       "      <td>0.948790</td>\n",
       "      <td>0.960128</td>\n",
       "    </tr>\n",
       "    <tr>\n",
       "      <th>3</th>\n",
       "      <td>How can people help stop stigma related to COV...</td>\n",
       "      <td>What can be done to stop stigma related to COV...</td>\n",
       "      <td>1</td>\n",
       "      <td>0.985724</td>\n",
       "      <td>0.987656</td>\n",
       "      <td>0.986240</td>\n",
       "      <td>0.988362</td>\n",
       "      <td>0.981589</td>\n",
       "      <td>0.978043</td>\n",
       "      <td>0.930974</td>\n",
       "      <td>0.946333</td>\n",
       "      <td>0.939386</td>\n",
       "    </tr>\n",
       "    <tr>\n",
       "      <th>4</th>\n",
       "      <td>What is the source of the virus?</td>\n",
       "      <td>Where does the virus come from?</td>\n",
       "      <td>1</td>\n",
       "      <td>0.936900</td>\n",
       "      <td>0.901894</td>\n",
       "      <td>0.861867</td>\n",
       "      <td>0.961313</td>\n",
       "      <td>0.926174</td>\n",
       "      <td>0.891326</td>\n",
       "      <td>0.811464</td>\n",
       "      <td>0.877028</td>\n",
       "      <td>0.864786</td>\n",
       "    </tr>\n",
       "  </tbody>\n",
       "</table>\n",
       "</div>"
      ],
      "text/plain": [
       "                                          question_1  ... small_max\n",
       "0                       What is a novel coronavirus?  ...  0.961327\n",
       "1  Why is the disease being called coronavirus di...  ...  0.950697\n",
       "2  Why might someone blame or avoid individuals a...  ...  0.960128\n",
       "3  How can people help stop stigma related to COV...  ...  0.939386\n",
       "4                   What is the source of the virus?  ...  0.864786\n",
       "\n",
       "[5 rows x 12 columns]"
      ]
     },
     "execution_count": 19,
     "metadata": {
      "tags": []
     },
     "output_type": "execute_result"
    }
   ],
   "source": [
    "eval_data = word_embeddings(eval_data, 'small', 'elmo')\n",
    "eval_data.head()"
   ]
  },
  {
   "cell_type": "code",
   "execution_count": null,
   "metadata": {
    "colab": {
     "base_uri": "https://localhost:8080/",
     "height": 122
    },
    "colab_type": "code",
    "id": "d48CT6R-bE6N",
    "outputId": "4b6d392b-e45d-4198-c31a-d4508601435e"
   },
   "outputs": [
    {
     "name": "stderr",
     "output_type": "stream",
     "text": [
      "/usr/local/lib/python3.6/dist-packages/smart_open/smart_open_lib.py:410: UserWarning: This function is deprecated, use smart_open.open instead. See the migration notes for details: https://github.com/RaRe-Technologies/smart_open/blob/master/README.rst#migrating-to-the-new-open-function\n",
      "  'See the migration notes for details: %s' % _MIGRATION_NOTES_URL\n"
     ]
    },
    {
     "name": "stdout",
     "output_type": "stream",
     "text": [
      "Done with mean\n"
     ]
    },
    {
     "name": "stderr",
     "output_type": "stream",
     "text": [
      "/usr/local/lib/python3.6/dist-packages/smart_open/smart_open_lib.py:410: UserWarning: This function is deprecated, use smart_open.open instead. See the migration notes for details: https://github.com/RaRe-Technologies/smart_open/blob/master/README.rst#migrating-to-the-new-open-function\n",
      "  'See the migration notes for details: %s' % _MIGRATION_NOTES_URL\n"
     ]
    }
   ],
   "source": [
    "eval_data = word_embeddings(eval_data, 'flair', 'flair')\n",
    "eval_data.head()"
   ]
  },
  {
   "cell_type": "code",
   "execution_count": null,
   "metadata": {},
   "outputs": [],
   "source": [
    "eval_data.rename(columns={'en-news_mean':'fasstext_mean',\n",
    "                          'en-news_max':'fasstext_max',\n",
    "                          'en-news_min':'fasstext_min',\n",
    "                          'small_mean':'elmo_mean',\n",
    "                          'small_max':'elmo_max',\n",
    "                          'small_min':'elmo_min'}, inplace=True)"
   ]
  },
  {
   "cell_type": "code",
   "execution_count": null,
   "metadata": {
    "colab": {},
    "colab_type": "code",
    "id": "l2JJrpMqYrPP"
   },
   "outputs": [],
   "source": [
    "eval_data.to_csv('embedding_similarity.csv', index=False)"
   ]
  }
 ],
 "metadata": {
  "colab": {
   "collapsed_sections": [],
   "name": "Covid-QA-sentence-embeddings.ipynb",
   "provenance": []
  },
  "kernelspec": {
   "display_name": "Python 3",
   "language": "python",
   "name": "python3"
  },
  "language_info": {
   "codemirror_mode": {
    "name": "ipython",
    "version": 3
   },
   "file_extension": ".py",
   "mimetype": "text/x-python",
   "name": "python",
   "nbconvert_exporter": "python",
   "pygments_lexer": "ipython3",
   "version": "3.7.1"
  }
 },
 "nbformat": 4,
 "nbformat_minor": 2
}
